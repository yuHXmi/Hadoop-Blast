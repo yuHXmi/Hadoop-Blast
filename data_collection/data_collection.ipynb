{
  "nbformat": 4,
  "nbformat_minor": 0,
  "metadata": {
    "colab": {
      "provenance": []
    },
    "kernelspec": {
      "name": "python3",
      "display_name": "Python 3"
    },
    "language_info": {
      "name": "python"
    }
  },
  "cells": [
    {
      "cell_type": "code",
      "source": [
        "!pip install Bio"
      ],
      "metadata": {
        "colab": {
          "base_uri": "https://localhost:8080/"
        },
        "id": "NRw8hYwf406F",
        "outputId": "dee4b0b1-17b9-478f-c452-45c6ef8b38b6"
      },
      "execution_count": 9,
      "outputs": [
        {
          "output_type": "stream",
          "name": "stdout",
          "text": [
            "Requirement already satisfied: Bio in /usr/local/lib/python3.11/dist-packages (1.8.0)\n",
            "Requirement already satisfied: biopython>=1.80 in /usr/local/lib/python3.11/dist-packages (from Bio) (1.85)\n",
            "Requirement already satisfied: gprofiler-official in /usr/local/lib/python3.11/dist-packages (from Bio) (1.0.0)\n",
            "Requirement already satisfied: mygene in /usr/local/lib/python3.11/dist-packages (from Bio) (3.2.2)\n",
            "Requirement already satisfied: pandas in /usr/local/lib/python3.11/dist-packages (from Bio) (2.2.2)\n",
            "Requirement already satisfied: pooch in /usr/local/lib/python3.11/dist-packages (from Bio) (1.8.2)\n",
            "Requirement already satisfied: requests in /usr/local/lib/python3.11/dist-packages (from Bio) (2.32.3)\n",
            "Requirement already satisfied: tqdm in /usr/local/lib/python3.11/dist-packages (from Bio) (4.67.1)\n",
            "Requirement already satisfied: numpy in /usr/local/lib/python3.11/dist-packages (from biopython>=1.80->Bio) (2.0.2)\n",
            "Requirement already satisfied: biothings-client>=0.2.6 in /usr/local/lib/python3.11/dist-packages (from mygene->Bio) (0.4.1)\n",
            "Requirement already satisfied: python-dateutil>=2.8.2 in /usr/local/lib/python3.11/dist-packages (from pandas->Bio) (2.9.0.post0)\n",
            "Requirement already satisfied: pytz>=2020.1 in /usr/local/lib/python3.11/dist-packages (from pandas->Bio) (2025.2)\n",
            "Requirement already satisfied: tzdata>=2022.7 in /usr/local/lib/python3.11/dist-packages (from pandas->Bio) (2025.2)\n",
            "Requirement already satisfied: platformdirs>=2.5.0 in /usr/local/lib/python3.11/dist-packages (from pooch->Bio) (4.3.8)\n",
            "Requirement already satisfied: packaging>=20.0 in /usr/local/lib/python3.11/dist-packages (from pooch->Bio) (24.2)\n",
            "Requirement already satisfied: charset-normalizer<4,>=2 in /usr/local/lib/python3.11/dist-packages (from requests->Bio) (3.4.2)\n",
            "Requirement already satisfied: idna<4,>=2.5 in /usr/local/lib/python3.11/dist-packages (from requests->Bio) (3.10)\n",
            "Requirement already satisfied: urllib3<3,>=1.21.1 in /usr/local/lib/python3.11/dist-packages (from requests->Bio) (2.4.0)\n",
            "Requirement already satisfied: certifi>=2017.4.17 in /usr/local/lib/python3.11/dist-packages (from requests->Bio) (2025.4.26)\n",
            "Requirement already satisfied: httpx>=0.22.0 in /usr/local/lib/python3.11/dist-packages (from biothings-client>=0.2.6->mygene->Bio) (0.28.1)\n",
            "Requirement already satisfied: six>=1.5 in /usr/local/lib/python3.11/dist-packages (from python-dateutil>=2.8.2->pandas->Bio) (1.17.0)\n",
            "Requirement already satisfied: anyio in /usr/local/lib/python3.11/dist-packages (from httpx>=0.22.0->biothings-client>=0.2.6->mygene->Bio) (4.9.0)\n",
            "Requirement already satisfied: httpcore==1.* in /usr/local/lib/python3.11/dist-packages (from httpx>=0.22.0->biothings-client>=0.2.6->mygene->Bio) (1.0.9)\n",
            "Requirement already satisfied: h11>=0.16 in /usr/local/lib/python3.11/dist-packages (from httpcore==1.*->httpx>=0.22.0->biothings-client>=0.2.6->mygene->Bio) (0.16.0)\n",
            "Requirement already satisfied: sniffio>=1.1 in /usr/local/lib/python3.11/dist-packages (from anyio->httpx>=0.22.0->biothings-client>=0.2.6->mygene->Bio) (1.3.1)\n",
            "Requirement already satisfied: typing_extensions>=4.5 in /usr/local/lib/python3.11/dist-packages (from anyio->httpx>=0.22.0->biothings-client>=0.2.6->mygene->Bio) (4.13.2)\n"
          ]
        }
      ]
    },
    {
      "cell_type": "code",
      "execution_count": 28,
      "metadata": {
        "colab": {
          "base_uri": "https://localhost:8080/",
          "height": 444
        },
        "id": "6v_eh2fg4lTl",
        "outputId": "7dc3b156-d7b4-4892-e25d-e6ecce800e84"
      },
      "outputs": [
        {
          "output_type": "stream",
          "name": "stdout",
          "text": [
            "Tìm dữ liệu cho gene: TP53\n",
            " - TP53: tìm thấy 4021 bản ghi\n",
            " - TP53: đã lưu 4021 bản ghi\n",
            "Tìm dữ liệu cho gene: BRCA1\n"
          ]
        },
        {
          "output_type": "error",
          "ename": "KeyboardInterrupt",
          "evalue": "",
          "traceback": [
            "\u001b[0;31m---------------------------------------------------------------------------\u001b[0m",
            "\u001b[0;31mKeyboardInterrupt\u001b[0m                         Traceback (most recent call last)",
            "\u001b[0;32m<ipython-input-28-da190272b7f1>\u001b[0m in \u001b[0;36m<cell line: 0>\u001b[0;34m()\u001b[0m\n\u001b[1;32m     87\u001b[0m \u001b[0;31m# Chạy toàn bộ\u001b[0m\u001b[0;34m\u001b[0m\u001b[0;34m\u001b[0m\u001b[0m\n\u001b[1;32m     88\u001b[0m \u001b[0;32mfor\u001b[0m \u001b[0mgene\u001b[0m \u001b[0;32min\u001b[0m \u001b[0mgenes\u001b[0m\u001b[0;34m:\u001b[0m\u001b[0;34m\u001b[0m\u001b[0;34m\u001b[0m\u001b[0m\n\u001b[0;32m---> 89\u001b[0;31m     \u001b[0mfetch_fasta_for_gene\u001b[0m\u001b[0;34m(\u001b[0m\u001b[0mgene\u001b[0m\u001b[0;34m)\u001b[0m\u001b[0;34m\u001b[0m\u001b[0;34m\u001b[0m\u001b[0m\n\u001b[0m",
            "\u001b[0;32m<ipython-input-28-da190272b7f1>\u001b[0m in \u001b[0;36mfetch_fasta_for_gene\u001b[0;34m(gene)\u001b[0m\n\u001b[1;32m     59\u001b[0m             \u001b[0mretmax\u001b[0m\u001b[0;34m=\u001b[0m\u001b[0;36m10000\u001b[0m\u001b[0;34m\u001b[0m\u001b[0;34m\u001b[0m\u001b[0m\n\u001b[1;32m     60\u001b[0m         )\n\u001b[0;32m---> 61\u001b[0;31m         \u001b[0msearch_results\u001b[0m \u001b[0;34m=\u001b[0m \u001b[0mEntrez\u001b[0m\u001b[0;34m.\u001b[0m\u001b[0mread\u001b[0m\u001b[0;34m(\u001b[0m\u001b[0msearch_handle\u001b[0m\u001b[0;34m)\u001b[0m\u001b[0;34m\u001b[0m\u001b[0;34m\u001b[0m\u001b[0m\n\u001b[0m\u001b[1;32m     62\u001b[0m         \u001b[0msearch_handle\u001b[0m\u001b[0;34m.\u001b[0m\u001b[0mclose\u001b[0m\u001b[0;34m(\u001b[0m\u001b[0;34m)\u001b[0m\u001b[0;34m\u001b[0m\u001b[0;34m\u001b[0m\u001b[0m\n\u001b[1;32m     63\u001b[0m \u001b[0;34m\u001b[0m\u001b[0m\n",
            "\u001b[0;32m/usr/local/lib/python3.11/dist-packages/Bio/Entrez/__init__.py\u001b[0m in \u001b[0;36mread\u001b[0;34m(source, validate, escape, ignore_errors)\u001b[0m\n\u001b[1;32m    527\u001b[0m \u001b[0;34m\u001b[0m\u001b[0m\n\u001b[1;32m    528\u001b[0m     \u001b[0mhandler\u001b[0m \u001b[0;34m=\u001b[0m \u001b[0mDataHandler\u001b[0m\u001b[0;34m(\u001b[0m\u001b[0mvalidate\u001b[0m\u001b[0;34m,\u001b[0m \u001b[0mescape\u001b[0m\u001b[0;34m,\u001b[0m \u001b[0mignore_errors\u001b[0m\u001b[0;34m)\u001b[0m\u001b[0;34m\u001b[0m\u001b[0;34m\u001b[0m\u001b[0m\n\u001b[0;32m--> 529\u001b[0;31m     \u001b[0mrecord\u001b[0m \u001b[0;34m=\u001b[0m \u001b[0mhandler\u001b[0m\u001b[0;34m.\u001b[0m\u001b[0mread\u001b[0m\u001b[0;34m(\u001b[0m\u001b[0msource\u001b[0m\u001b[0;34m)\u001b[0m\u001b[0;34m\u001b[0m\u001b[0;34m\u001b[0m\u001b[0m\n\u001b[0m\u001b[1;32m    530\u001b[0m     \u001b[0;32mreturn\u001b[0m \u001b[0mrecord\u001b[0m\u001b[0;34m\u001b[0m\u001b[0;34m\u001b[0m\u001b[0m\n\u001b[1;32m    531\u001b[0m \u001b[0;34m\u001b[0m\u001b[0m\n",
            "\u001b[0;32m/usr/local/lib/python3.11/dist-packages/Bio/Entrez/Parser.py\u001b[0m in \u001b[0;36mread\u001b[0;34m(self, source)\u001b[0m\n\u001b[1;32m    403\u001b[0m             \u001b[0;32mraise\u001b[0m \u001b[0mTypeError\u001b[0m\u001b[0;34m(\u001b[0m\u001b[0;34m\"file should be opened in binary mode\"\u001b[0m\u001b[0;34m)\u001b[0m\u001b[0;34m\u001b[0m\u001b[0;34m\u001b[0m\u001b[0m\n\u001b[1;32m    404\u001b[0m         \u001b[0;32mtry\u001b[0m\u001b[0;34m:\u001b[0m\u001b[0;34m\u001b[0m\u001b[0;34m\u001b[0m\u001b[0m\n\u001b[0;32m--> 405\u001b[0;31m             \u001b[0mself\u001b[0m\u001b[0;34m.\u001b[0m\u001b[0mparser\u001b[0m\u001b[0;34m.\u001b[0m\u001b[0mParseFile\u001b[0m\u001b[0;34m(\u001b[0m\u001b[0mstream\u001b[0m\u001b[0;34m)\u001b[0m\u001b[0;34m\u001b[0m\u001b[0;34m\u001b[0m\u001b[0m\n\u001b[0m\u001b[1;32m    406\u001b[0m         \u001b[0;32mexcept\u001b[0m \u001b[0mexpat\u001b[0m\u001b[0;34m.\u001b[0m\u001b[0mExpatError\u001b[0m \u001b[0;32mas\u001b[0m \u001b[0me\u001b[0m\u001b[0;34m:\u001b[0m\u001b[0;34m\u001b[0m\u001b[0;34m\u001b[0m\u001b[0m\n\u001b[1;32m    407\u001b[0m             \u001b[0;32mif\u001b[0m \u001b[0mself\u001b[0m\u001b[0;34m.\u001b[0m\u001b[0mparser\u001b[0m\u001b[0;34m.\u001b[0m\u001b[0mStartElementHandler\u001b[0m\u001b[0;34m:\u001b[0m\u001b[0;34m\u001b[0m\u001b[0;34m\u001b[0m\u001b[0m\n",
            "\u001b[0;32m../Modules/pyexpat.c\u001b[0m in \u001b[0;36mEndElement\u001b[0;34m()\u001b[0m\n",
            "\u001b[0;32m/usr/local/lib/python3.11/dist-packages/Bio/Entrez/Parser.py\u001b[0m in \u001b[0;36mendStringElementHandler\u001b[0;34m(self, tag)\u001b[0m\n\u001b[1;32m    778\u001b[0m         \u001b[0;32melse\u001b[0m\u001b[0;34m:\u001b[0m\u001b[0;34m\u001b[0m\u001b[0;34m\u001b[0m\u001b[0m\n\u001b[1;32m    779\u001b[0m             \u001b[0mkey\u001b[0m \u001b[0;34m=\u001b[0m \u001b[0mtag\u001b[0m\u001b[0;34m\u001b[0m\u001b[0;34m\u001b[0m\u001b[0m\n\u001b[0;32m--> 780\u001b[0;31m         \u001b[0mvalue\u001b[0m \u001b[0;34m=\u001b[0m \u001b[0mStringElement\u001b[0m\u001b[0;34m(\u001b[0m\u001b[0mdata\u001b[0m\u001b[0;34m,\u001b[0m \u001b[0mtag\u001b[0m\u001b[0;34m,\u001b[0m \u001b[0mattributes\u001b[0m\u001b[0;34m,\u001b[0m \u001b[0mkey\u001b[0m\u001b[0;34m)\u001b[0m\u001b[0;34m\u001b[0m\u001b[0;34m\u001b[0m\u001b[0m\n\u001b[0m\u001b[1;32m    781\u001b[0m         \u001b[0;32mif\u001b[0m \u001b[0melement\u001b[0m \u001b[0;32mis\u001b[0m \u001b[0;32mNone\u001b[0m\u001b[0;34m:\u001b[0m\u001b[0;34m\u001b[0m\u001b[0;34m\u001b[0m\u001b[0m\n\u001b[1;32m    782\u001b[0m             \u001b[0mself\u001b[0m\u001b[0;34m.\u001b[0m\u001b[0mrecord\u001b[0m \u001b[0;34m=\u001b[0m \u001b[0melement\u001b[0m\u001b[0;34m\u001b[0m\u001b[0;34m\u001b[0m\u001b[0m\n",
            "\u001b[0;31mKeyboardInterrupt\u001b[0m: "
          ]
        }
      ],
      "source": [
        "from Bio import Entrez\n",
        "import os\n",
        "\n",
        "# Cấu hình thông tin email & API key NCBI\n",
        "Entrez.email = \"xhuy8248@gmail.com\"\n",
        "Entrez.api_key = \"24befb879ebad55a5541dc8a3f0c11747709\"\n",
        "\n",
        "# Tạo thư mục chứa dữ liệu\n",
        "os.makedirs(\"fasta_nr\", exist_ok=True)\n",
        "\n",
        "genes = [\n",
        "    # Oncogenes & Tumor Suppressors\n",
        "    \"TP53\", \"BRCA1\", \"BRCA2\", \"KRAS\", \"NRAS\", \"HRAS\", \"MYC\", \"MYCN\", \"MYCL\", \"RB1\",\n",
        "    \"PTEN\", \"APC\", \"PIK3CA\", \"PIK3CB\", \"AKT1\", \"AKT2\", \"AKT3\", \"EGFR\", \"ERBB2\", \"SMAD4\",\n",
        "    \"SMAD2\", \"SMAD3\", \"BCL2\", \"BAX\", \"CDKN1A\", \"CDKN2A\", \"CDK4\", \"CDK2\", \"CCND1\", \"MDM2\",\n",
        "    \"NOTCH1\", \"CTNNB1\", \"TSC1\", \"TSC2\", \"NF1\", \"NF2\", \"WT1\", \"VHL\", \"RET\", \"MET\",\n",
        "\n",
        "    # Signal Transduction\n",
        "    \"MAPK1\", \"MAPK3\", \"MAP2K1\", \"MAP2K2\", \"RAF1\", \"BRAF\", \"JAK1\", \"JAK2\", \"JAK3\", \"STAT1\",\n",
        "    \"STAT2\", \"STAT3\", \"STAT5A\", \"STAT5B\", \"MTOR\", \"RHEB\", \"PDGFRA\", \"PDGFRB\", \"SRC\", \"ABL1\",\n",
        "\n",
        "    # Transcription Factors\n",
        "    \"TP63\", \"TP73\", \"SOX2\", \"SOX9\", \"FOXA1\", \"FOXP3\", \"GATA3\", \"NANOG\", \"POU5F1\", \"RUNX1\",\n",
        "    \"RUNX2\", \"HOXA1\", \"HOXA3\", \"HOXA5\", \"HOXA9\", \"HOXA10\", \"HOXA13\", \"GLI1\", \"TBX3\", \"TBX5\",\n",
        "\n",
        "    # Metabolism & Housekeeping\n",
        "    \"GAPDH\", \"ACTB\", \"LDHA\", \"LDHB\", \"PKM\", \"PFKP\", \"ENO1\", \"FASN\", \"ACACA\", \"HPRT1\",\n",
        "    \"RPL13A\", \"RPS18\", \"B2M\", \"TBP\", \"TUBA1A\", \"EEF1A1\", \"ATP5F1A\", \"SDHB\", \"UQCRC1\", \"NDUFA1\",\n",
        "\n",
        "    # Apoptosis & DNA Repair\n",
        "    \"CASP3\", \"CASP8\", \"CASP9\", \"FAS\", \"FADD\", \"TP53BP1\", \"ATM\", \"ATR\", \"CHEK1\", \"CHEK2\",\n",
        "    \"PARP1\", \"MLH1\", \"MSH2\", \"MSH6\", \"XRCC1\", \"XRCC3\", \"BRIP1\", \"RAD51\", \"RAD52\", \"FANCD2\",\n",
        "\n",
        "    # Developmental Genes\n",
        "    \"SHH\", \"BMP2\", \"BMP4\", \"FGF1\", \"FGF2\", \"FGFR1\", \"FGFR2\", \"WNT1\", \"WNT3A\", \"WNT5A\",\n",
        "    \"NOTCH2\", \"DLL1\", \"JAG1\", \"HEY1\", \"HES1\", \"NOG\", \"PAX6\", \"PAX3\", \"ZIC1\", \"SOX10\",\n",
        "\n",
        "    # Immune / Cytokines\n",
        "    \"IL6\", \"IL1B\", \"IL2\", \"IL4\", \"IL8\", \"IL10\", \"IFNG\", \"TNF\", \"CXCL8\", \"CXCL10\",\n",
        "    \"CD3D\", \"CD3E\", \"CD4\", \"CD8A\", \"CD14\", \"CD19\", \"CD28\", \"CD40\", \"TLR2\", \"TLR4\",\n",
        "\n",
        "    # Cell Cycle / Proliferation\n",
        "    \"MKI67\", \"PCNA\", \"AURKA\", \"AURKB\", \"PLK1\", \"BUB1\", \"CDC20\", \"CDC25A\", \"CDC6\", \"CDCA3\",\n",
        "    \"CCNA2\", \"CCNB1\", \"CCNE1\", \"E2F1\", \"E2F2\", \"E2F3\", \"SKP2\", \"UBE2C\", \"CUL1\", \"CENPA\",\n",
        "\n",
        "    # Others: Adhesion, ECM, Migration\n",
        "    \"MMP2\", \"MMP9\", \"MMP14\", \"ITGA5\", \"ITGB1\", \"CDH1\", \"CDH2\", \"VIM\", \"FN1\", \"SPP1\",\n",
        "    \"LAMC2\", \"COL1A1\", \"COL3A1\", \"TGFBR1\", \"TGFBR2\", \"TGFB1\", \"ZEB1\", \"ZEB2\", \"SNAI1\", \"SNAI2\"\n",
        "]\n",
        "\n",
        "# Hàm fetch FASTA\n",
        "def fetch_fasta_for_gene(gene):\n",
        "    try:\n",
        "        print(f\"Tìm dữ liệu cho gene: {gene}\")\n",
        "\n",
        "        search_handle = Entrez.esearch(\n",
        "            db=\"protein\",\n",
        "            term=f\"{gene}[Gene]\",\n",
        "            retmax=10000\n",
        "        )\n",
        "        search_results = Entrez.read(search_handle)\n",
        "        search_handle.close()\n",
        "\n",
        "        ids = search_results.get(\"IdList\", [])\n",
        "        print(f\" - {gene}: tìm thấy {len(ids)} bản ghi\")\n",
        "\n",
        "        if not ids:\n",
        "            return\n",
        "\n",
        "        fetch_handle = Entrez.efetch(\n",
        "            db=\"protein\",\n",
        "            id=\",\".join(ids),\n",
        "            rettype=\"fasta\",\n",
        "            retmode=\"text\"\n",
        "        )\n",
        "        fasta_data = fetch_handle.read()\n",
        "        fetch_handle.close()\n",
        "\n",
        "        with open(f\"fasta_nr/{gene}.fasta\", \"w\") as f:\n",
        "            f.write(fasta_data)\n",
        "\n",
        "        print(f\" - {gene}: đã lưu {len(ids)} bản ghi\")\n",
        "\n",
        "    except Exception as e:\n",
        "        print(f\"!! Lỗi với {gene}: {e}\")\n",
        "\n",
        "# Chạy toàn bộ\n",
        "for gene in genes:\n",
        "    fetch_fasta_for_gene(gene)"
      ]
    }
  ]
}